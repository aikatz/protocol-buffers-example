{
 "cells": [
  {
   "cell_type": "code",
   "execution_count": 2,
   "metadata": {
    "collapsed": true
   },
   "outputs": [],
   "source": [
    "import datafile_pb2\n",
    "import pandas as pd\n",
    "import numpy as np\n",
    "import sys"
   ]
  },
  {
   "cell_type": "code",
   "execution_count": 9,
   "metadata": {
    "collapsed": true
   },
   "outputs": [],
   "source": [
    "# Opens the binary file and parses it into the csv_file object\n",
    "csv_file = csv_pb2.CSVFile()\n",
    "f = open(\"output\", \"rb\")\n",
    "csv_file.ParseFromString(f.read())\n",
    "f.close()"
   ]
  },
  {
   "cell_type": "code",
   "execution_count": 10,
   "metadata": {
    "collapsed": true
   },
   "outputs": [],
   "source": [
    "def print_datafile(data_file):\n",
    "  # print out header\n",
    "  for header in data_file.header:\n",
    "    first = True\n",
    "    for column_name in header.column_name:\n",
    "      if first:\n",
    "        first = False\n",
    "        sys.stdout.write(column_name)\n",
    "      else:\n",
    "        sys.stdout.write(\",\" + column_name)\n",
    "    sys.stdout.write(\"\\n\")\n",
    "\n",
    "  #print out data\n",
    "  for row in data_file.row:\n",
    "    first = True\n",
    "    for value in row.column_value:\n",
    "      if first:\n",
    "        first = False\n",
    "        sys.stdout.write(str(value))\n",
    "      else:\n",
    "        sys.stdout.write(\",\" + str(value))\n",
    "    sys.stdout.write(\"\\n\")"
   ]
  },
  {
   "cell_type": "code",
   "execution_count": 11,
   "metadata": {},
   "outputs": [
    {
     "name": "stdout",
     "output_type": "stream",
     "text": [
      "col1,col2,col3\n",
      "0,0,0\n",
      "0,1,2\n",
      "0,2,4\n",
      "0,3,6\n",
      "0,4,8\n",
      "0,5,10\n",
      "0,6,12\n",
      "0,7,14\n",
      "0,8,16\n",
      "0,9,18\n",
      "0,10,20\n",
      "0,11,22\n",
      "0,12,24\n",
      "0,13,26\n",
      "0,14,28\n",
      "0,15,30\n",
      "0,16,32\n",
      "0,17,34\n",
      "0,18,36\n",
      "0,19,38\n"
     ]
    }
   ],
   "source": [
    "print_datafile(csv_file)"
   ]
  },
  {
   "cell_type": "code",
   "execution_count": null,
   "metadata": {
    "collapsed": true
   },
   "outputs": [],
   "source": [
    "def make_df(csv_file):\n",
    "    df = DataFrame()"
   ]
  }
 ],
 "metadata": {
  "kernelspec": {
   "display_name": "Python 2",
   "language": "python",
   "name": "python2"
  },
  "language_info": {
   "codemirror_mode": {
    "name": "ipython",
    "version": 2
   },
   "file_extension": ".py",
   "mimetype": "text/x-python",
   "name": "python",
   "nbconvert_exporter": "python",
   "pygments_lexer": "ipython2",
   "version": "2.7.12"
  }
 },
 "nbformat": 4,
 "nbformat_minor": 2
}
