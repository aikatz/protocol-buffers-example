{
 "cells": [
  {
   "cell_type": "code",
   "execution_count": 11,
   "metadata": {
    "collapsed": true
   },
   "outputs": [],
   "source": [
    "import datafile_pb2\n",
    "import pandas as pd\n",
    "import numpy as np\n",
    "import sys\n",
    "import ProtoText\n",
    "import time"
   ]
  },
  {
   "cell_type": "code",
   "execution_count": null,
   "metadata": {
    "collapsed": true
   },
   "outputs": [],
   "source": [
    "times = {}\n",
    "sizes = [\"10K\", \"100K\", \"1M\", \"10M\"]"
   ]
  },
  {
   "cell_type": "code",
   "execution_count": 9,
   "metadata": {},
   "outputs": [],
   "source": [
    "t1 = time.clock()\n",
    "data_file = datafile_pb2.DataFile()\n",
    "f = open(\"output\", \"rb\")\n",
    "data_file.ParseFromString(f.read())\n",
    "f.close()\n",
    "columns = data_file['header'][0]['column_name']\n",
    "rows = np.array([row['column_value'] for row in data_file['row']])\n",
    "df = pd.DataFrame(rows, columns=columns)\n",
    "t2 = time.clock()\n",
    "times[\"protobuf][\"10K\"] = t1 - t2"
   ]
  },
  {
   "cell_type": "code",
   "execution_count": 10,
   "metadata": {
    "scrolled": true
   },
   "outputs": [
    {
     "data": {
      "text/plain": [
       "0.009999999999999787"
      ]
     },
     "execution_count": 10,
     "metadata": {},
     "output_type": "execute_result"
    }
   ],
   "source": []
  },
  {
   "cell_type": "code",
   "execution_count": null,
   "metadata": {
    "collapsed": true
   },
   "outputs": [],
   "source": []
  }
 ],
 "metadata": {
  "kernelspec": {
   "display_name": "Python 2",
   "language": "python",
   "name": "python2"
  },
  "language_info": {
   "codemirror_mode": {
    "name": "ipython",
    "version": 2
   },
   "file_extension": ".py",
   "mimetype": "text/x-python",
   "name": "python",
   "nbconvert_exporter": "python",
   "pygments_lexer": "ipython2",
   "version": "2.7.12"
  }
 },
 "nbformat": 4,
 "nbformat_minor": 2
}
